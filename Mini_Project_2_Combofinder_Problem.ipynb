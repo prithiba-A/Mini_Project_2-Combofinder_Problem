{
  "nbformat": 4,
  "nbformat_minor": 0,
  "metadata": {
    "colab": {
      "provenance": [],
      "authorship_tag": "ABX9TyNSj+1DL9ngS7XvBKUFqjix",
      "include_colab_link": true
    },
    "kernelspec": {
      "name": "python3",
      "display_name": "Python 3"
    },
    "language_info": {
      "name": "python"
    }
  },
  "cells": [
    {
      "cell_type": "markdown",
      "metadata": {
        "id": "view-in-github",
        "colab_type": "text"
      },
      "source": [
        "<a href=\"https://colab.research.google.com/github/prithiba-A/Mini_Project_2-Combofinder_Problem/blob/main/Mini_Project_2_Combofinder_Problem.ipynb\" target=\"_parent\"><img src=\"https://colab.research.google.com/assets/colab-badge.svg\" alt=\"Open In Colab\"/></a>"
      ]
    },
    {
      "cell_type": "markdown",
      "source": [
        "**ComboFinder Problem Statement:**\n",
        "\n",
        "Find all the list of products whose sum-of-price is between 490 and 510.\n",
        "\n",
        "ProductList = {p1:64, p2:88, p3:152, p4:93, p5:76 'p6':35, 'p7':50, 'p8':40, 'p9':55, 'p10':60, 'p11':65, 'p12':75, 'p13':70, 'p14':45}"
      ],
      "metadata": {
        "id": "fd5z9vtopfqe"
      }
    },
    {
      "cell_type": "markdown",
      "source": [
        "**Library inclusion**"
      ],
      "metadata": {
        "id": "RZ6MXC60qOui"
      }
    },
    {
      "cell_type": "code",
      "source": [
        "import random as r"
      ],
      "metadata": {
        "id": "aOqAwyBZphxs"
      },
      "execution_count": 1,
      "outputs": []
    },
    {
      "cell_type": "markdown",
      "source": [
        "**Parameter Setting**"
      ],
      "metadata": {
        "id": "Y1MrsdOBqSGh"
      }
    },
    {
      "cell_type": "code",
      "execution_count": 2,
      "metadata": {
        "id": "vW4joUoQpGVB"
      },
      "outputs": [],
      "source": [
        "ProductList = {'p1':64, 'p2':88, 'p3':152, 'p4':93, 'p5':76, 'p6':35, 'p7':50,\n",
        "               'p8':40, 'p9':55, 'p10':60, 'p11':65, 'p12':75, 'p13':70,\n",
        "               'p14':45}\n",
        "LB          = 490\n",
        "UB          = 510\n",
        "ResultList  = set()   # Store Result List i.e. list of sets whose sum is between 90 and 210.\n",
        "Iterations  = 1000"
      ]
    },
    {
      "cell_type": "markdown",
      "source": [
        "**Start Program**"
      ],
      "metadata": {
        "id": "ed08WyJjqWjQ"
      }
    },
    {
      "cell_type": "code",
      "source": [
        "for i in range(Iterations):\n",
        "\n",
        "    # Select combo size (i.e. number of products in a combo)\n",
        "    SetSize = r.randint(2, len(ProductList)-1)\n",
        "\n",
        "    # Select number of elements from Set\n",
        "    ComboList = r.sample(list(ProductList.keys()),SetSize)\n",
        "    ComboList.sort()\n",
        "\n",
        "    # Sum the products in ColboList\n",
        "    ComboSum = sum([ ProductList[i] for i in ComboList])\n",
        "\n",
        "    # Check the Sum Between LB and UB\n",
        "    if ComboSum>= LB and ComboSum<= UB:\n",
        "      ResultList.add(tuple(ComboList))\n",
        "\n",
        "\n",
        "# Print all the sets whose sum is between LB and UB\n",
        "for r in ResultList:\n",
        "\tprint (r)\n",
        "\n",
        "# Print total sets\n",
        "print (\"\\nTotal Sets: \", len(ResultList), \"\\n\")"
      ],
      "metadata": {
        "colab": {
          "base_uri": "https://localhost:8080/"
        },
        "id": "p3Djh0d9qI0I",
        "outputId": "ea7efac6-9e3d-4dea-cad5-210a6368caa2"
      },
      "execution_count": 3,
      "outputs": [
        {
          "output_type": "stream",
          "name": "stdout",
          "text": [
            "('p10', 'p11', 'p13', 'p14', 'p4', 'p5', 'p6', 'p7')\n",
            "('p1', 'p13', 'p2', 'p4', 'p6', 'p7', 'p8', 'p9')\n",
            "('p1', 'p13', 'p14', 'p3', 'p5', 'p8', 'p9')\n",
            "('p1', 'p10', 'p11', 'p3', 'p5', 'p6', 'p9')\n",
            "('p10', 'p11', 'p14', 'p2', 'p3', 'p6', 'p9')\n",
            "('p12', 'p2', 'p3', 'p4', 'p6', 'p7')\n",
            "('p10', 'p12', 'p3', 'p4', 'p5', 'p6')\n",
            "('p1', 'p10', 'p11', 'p12', 'p14', 'p4', 'p7', 'p9')\n",
            "('p1', 'p11', 'p14', 'p2', 'p4', 'p5', 'p6', 'p8')\n",
            "('p10', 'p12', 'p13', 'p14', 'p3', 'p4')\n",
            "('p1', 'p11', 'p3', 'p4', 'p6', 'p7', 'p8')\n",
            "('p10', 'p2', 'p4', 'p5', 'p6', 'p7', 'p8', 'p9')\n",
            "('p10', 'p12', 'p14', 'p3', 'p4', 'p6', 'p7')\n",
            "('p10', 'p11', 'p13', 'p2', 'p5', 'p6', 'p7', 'p9')\n",
            "('p10', 'p12', 'p3', 'p4', 'p5', 'p8')\n",
            "('p1', 'p11', 'p12', 'p13', 'p4', 'p5', 'p7')\n",
            "('p13', 'p3', 'p4', 'p6', 'p7', 'p8', 'p9')\n",
            "('p1', 'p10', 'p11', 'p14', 'p2', 'p4', 'p6', 'p8')\n",
            "('p11', 'p12', 'p13', 'p14', 'p4', 'p5', 'p6', 'p7')\n",
            "('p12', 'p13', 'p14', 'p3', 'p4', 'p9')\n",
            "('p1', 'p10', 'p13', 'p14', 'p2', 'p5', 'p6', 'p9')\n",
            "('p1', 'p11', 'p13', 'p3', 'p7', 'p8', 'p9')\n",
            "('p1', 'p10', 'p11', 'p3', 'p5', 'p6', 'p7')\n",
            "('p1', 'p3', 'p4', 'p5', 'p7', 'p9')\n",
            "('p1', 'p10', 'p2', 'p4', 'p5', 'p6', 'p7', 'p8')\n",
            "\n",
            "Total Sets:  25 \n",
            "\n"
          ]
        }
      ]
    }
  ]
}